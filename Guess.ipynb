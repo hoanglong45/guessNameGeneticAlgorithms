{
 "cells": [
  {
   "cell_type": "code",
   "execution_count": 1,
   "metadata": {},
   "outputs": [],
   "source": [
    "import random\n",
    "import datetime"
   ]
  },
  {
   "cell_type": "code",
   "execution_count": 2,
   "metadata": {},
   "outputs": [],
   "source": [
    "geneSet = ' abcdefghijklmnopqrstuvwxyzABCDEFGHIJKLMNOPQRSTUVWXYZ'\n",
    "target = 'Le Hoang Long'"
   ]
  },
  {
   "cell_type": "code",
   "execution_count": 3,
   "metadata": {},
   "outputs": [],
   "source": [
    "def generate_parent(length):\n",
    "    genes = []\n",
    "    while len(genes) < length:\n",
    "        sampleSize = min(length - len(genes), len(geneSet))\n",
    "        genes.extend(random.sample(geneSet, sampleSize))\n",
    "    return ''.join(genes)"
   ]
  },
  {
   "cell_type": "code",
   "execution_count": 4,
   "metadata": {},
   "outputs": [],
   "source": [
    "def get_fitness(guess):\n",
    "    return sum(1 for expected, actual in zip(target, guess) if expected == actual)"
   ]
  },
  {
   "cell_type": "code",
   "execution_count": 5,
   "metadata": {},
   "outputs": [],
   "source": [
    "def mutate(parent):\n",
    "    index = random.randrange(0, len(parent))\n",
    "    childGenes = list(parent)\n",
    "    newGene, alternate = random.sample(geneSet, 2)\n",
    "    childGenes[index] = alternate if newGene == childGenes[index] else newGene\n",
    "    return ''.join(childGenes)"
   ]
  },
  {
   "cell_type": "code",
   "execution_count": 6,
   "metadata": {},
   "outputs": [],
   "source": [
    "def display(guess):\n",
    "    timeDiff = datetime.datetime.now() - startTime\n",
    "    fitness = get_fitness(guess)\n",
    "    print(\"{}\\t{}\\t{}\".format(guess, fitness, timeDiff))"
   ]
  },
  {
   "cell_type": "code",
   "execution_count": 7,
   "metadata": {},
   "outputs": [
    {
     "name": "stdout",
     "output_type": "stream",
     "text": [
      "DrZu CNxYBSpl\t0\t0:00:00\n",
      "DrZu CNxYBSpg\t1\t0:00:00\n",
      "Dr u CNxYBSpg\t2\t0:00:00.000975\n",
      "De u CNxYBSpg\t3\t0:00:00.001952\n",
      "De u CNx BSpg\t4\t0:00:00.001952\n",
      "Le u CNx BSpg\t5\t0:00:00.001952\n",
      "Le u CNg BSpg\t6\t0:00:00.002925\n",
      "Le u Cng BSpg\t7\t0:00:00.004878\n",
      "Le u ang BSpg\t8\t0:00:00.005854\n",
      "Le uoang BSpg\t9\t0:00:00.009760\n",
      "Le uoang LSpg\t10\t0:00:00.015613\n",
      "Le Hoang LSpg\t11\t0:00:00.016591\n",
      "Le Hoang LSng\t12\t0:00:00.025376\n",
      "Le Hoang Long\t13\t0:00:00.045871\n"
     ]
    }
   ],
   "source": [
    "if __name__ == '__main__':\n",
    "    random.seed()\n",
    "    startTime = datetime.datetime.now()\n",
    "    bestParent = generate_parent(len(target))\n",
    "    bestFitness = get_fitness(bestParent)\n",
    "    display(bestParent)\n",
    "\n",
    "    while True:\n",
    "        child = mutate(bestParent)\n",
    "        childFitness = get_fitness(child)\n",
    "        if bestFitness >= childFitness:\n",
    "            continue\n",
    "        display(child)\n",
    "        if childFitness >= len(bestParent):\n",
    "            break\n",
    "        bestFitness = childFitness\n",
    "        bestParent = child"
   ]
  },
  {
   "cell_type": "code",
   "execution_count": null,
   "metadata": {},
   "outputs": [],
   "source": []
  }
 ],
 "metadata": {
  "kernelspec": {
   "display_name": "Python 3",
   "language": "python",
   "name": "python3"
  },
  "language_info": {
   "codemirror_mode": {
    "name": "ipython",
    "version": 3
   },
   "file_extension": ".py",
   "mimetype": "text/x-python",
   "name": "python",
   "nbconvert_exporter": "python",
   "pygments_lexer": "ipython3",
   "version": "3.7.6"
  }
 },
 "nbformat": 4,
 "nbformat_minor": 4
}
